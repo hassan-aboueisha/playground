{
 "cells": [
  {
   "cell_type": "markdown",
   "metadata": {},
   "source": [
    "**data**: query_id F_context [ F_doc(i) ] Doc_choosen\n",
    "\n",
    "\n",
    "map:\n",
    "\n",
    "**hard_rank**: id F_context F_doc | was_choosen\n",
    "\n",
    "**soft_rank**: id F_context F_doc | relevance\n",
    "\n",
    "\n",
    "reduce:\n",
    "\n",
    "**pointwise**:   hard_rank\n",
    "\n",
    "**pointwise++**: hard_rank + F_doc*F_context\n",
    "\n",
    "**pairwise**: id F_context (F_docA - F_docB) (label_A - label_B) [ for different labels ]\n",
    "\n",
    "\n",
    "https://gist.github.com/fabianp/2020955"
   ]
  },
  {
   "cell_type": "code",
   "execution_count": 174,
   "metadata": {
    "collapsed": true
   },
   "outputs": [],
   "source": [
    "#!/usr/bin/env python\n",
    "\n",
    "import sys\n",
    "import numpy as np\n",
    "import pandas as pd\n",
    "import heapq\n",
    "\n",
    "from itertools import izip\n",
    "from sklearn.metrics import *\n",
    "\n",
    "def _d(array, name):\n",
    "    print \"----\", name\n",
    "    for x in array: print x"
   ]
  },
  {
   "cell_type": "markdown",
   "metadata": {},
   "source": [
    "## Hash trick"
   ]
  },
  {
   "cell_type": "code",
   "execution_count": 325,
   "metadata": {
    "collapsed": false
   },
   "outputs": [],
   "source": [
    "\n",
    "hash_lookup = {}\n",
    "\n",
    "def hash_trick(x, namespaces, n=2**20):\n",
    "    global hash_lookup\n",
    "    sparse_x = []\n",
    "    for row in x:\n",
    "        hashed_x = {}\n",
    "        for v,s in zip(row, namespaces):\n",
    "            my_hash = hash(str(v)+s) % n\n",
    "            hash_lookup[ my_hash ] = \"%s=%s\" % ( s, v ) \n",
    "            hashed_x[ my_hash ]    = 1\n",
    "        sparse_x.append( defaultdict(lambda: 0, hashed_x) )\n",
    "    return sparse_x\n",
    "\n",
    "def interpret_coefs(coefs, n=None):\n",
    "    # TODO\n",
    "    return True\n"
   ]
  },
  {
   "cell_type": "markdown",
   "metadata": {},
   "source": [
    "## Transformations"
   ]
  },
  {
   "cell_type": "code",
   "execution_count": 394,
   "metadata": {
    "collapsed": true
   },
   "outputs": [],
   "source": [
    "import itertools as it\n",
    "from collections import defaultdict\n",
    "\n",
    "def relevance_mapper(X, Y, scorer=None):\n",
    "    scorer = scorer or ( lambda x,y: int(x[-1] == y)*1000000 )\n",
    "    return map(scorer, X, Y)\n",
    "\n",
    "def pairwise_hashed(X, Y, context=None, balanced=True):\n",
    "    X_new, Y_new = [], []\n",
    "    pairs = it.combinations(range(len(X)), 2)\n",
    "\n",
    "    for i, (a,b) in enumerate(pairs):\n",
    "        y  = np.sign(Y[a] - Y[b])\n",
    "        if y == 0: continue\n",
    "        \n",
    "        x = X[a].copy()\n",
    "        for k in X[b].keys(): x[k] -= 1\n",
    "        \n",
    "        if balanced and y != (-1)**i:\n",
    "            y *= -1\n",
    "            for k in x.keys(): x[k] *= -1\n",
    "    \n",
    "        X_new.append(x)\n",
    "        Y_new.append(y)\n",
    "\n",
    "    return X_new, Y_new\n",
    "\n",
    "def to_vw(qid, X,Y):\n",
    "    for x,y in zip(X,Y):\n",
    "        sparse_feat = [ \"%d:%d\" % (k,v) for k,v in x.items() if v ]\n",
    "        print \"{} |qid {} |p {}\".format(qid, y, \" \".join(sparse_feat))"
   ]
  },
  {
   "cell_type": "markdown",
   "metadata": {},
   "source": [
    "## Processing"
   ]
  },
  {
   "cell_type": "code",
   "execution_count": 392,
   "metadata": {
    "collapsed": false
   },
   "outputs": [
    {
     "name": "stdout",
     "output_type": "stream",
     "text": [
      "1 |p 250448:-1 417820:1\n",
      "-1 |p 417820:-1 371189:1\n"
     ]
    }
   ],
   "source": [
    "_file  = open('test.l2b.tsv')\n",
    "header  = _file.readline().strip().split(sep)\n",
    "sep     = \" \"\n",
    "hash_b = 2**20\n",
    "\n",
    "choosen_i = -1 \n",
    "query_i   = 0\n",
    "\n",
    "current_key     = None\n",
    "current_samples = None\n",
    "\n",
    "def process(qid, rows):\n",
    "    if qid is None: return\n",
    "    X, Y = zip(*rows)\n",
    "    scr  = relevance_mapper(X, Y)\n",
    "\n",
    "    X  = hash_trick(rows, header, n=hash_b)\n",
    "    X, Y = pairwise_hashed(X, scr)\n",
    "    \n",
    "    to_vw(qid, X,Y)\n",
    "\n",
    "for line in _file:\n",
    "    row   = line.strip().split(sep)\n",
    "\n",
    "    if current_key != row[query_i]:\n",
    "        process( current_key, current_samples ) \n",
    "        current_samples = []\n",
    "        current_key     = row[query_i]\n",
    "    \n",
    "    current_samples.append( ( row[query_i+1:choosen_i], row[choosen_i] ) )\n",
    "\n",
    "process( current_key, current_samples )"
   ]
  },
  {
   "cell_type": "markdown",
   "metadata": {},
   "source": [
    "## Evaluating"
   ]
  },
  {
   "cell_type": "code",
   "execution_count": null,
   "metadata": {
    "collapsed": true
   },
   "outputs": [],
   "source": [
    "# to_vw -c -pairwise train.csv | vw -i train.csv --link logistic -b 25 -f vw.model\n",
    "# to_vw -c -hashed test.csv    | vw -t test.csv -p | eval labels.csv\n"
   ]
  },
  {
   "cell_type": "markdown",
   "metadata": {},
   "source": [
    "## Testing HashTrick"
   ]
  },
  {
   "cell_type": "code",
   "execution_count": 343,
   "metadata": {
    "collapsed": false
   },
   "outputs": [],
   "source": [
    "from sklearn.datasets import *\n",
    "from sklearn.linear_model import LogisticRegression\n",
    "from sklearn.model_selection import train_test_split\n",
    "from sklearn.preprocessing import *\n",
    "from sklearn.feature_extraction import *\n",
    "\n",
    "df = pd.read_csv('car.data.csv')\n",
    "x = df[df.columns[0:-1]]\n",
    "y = (df.unacc == 'unacc').astype('int')"
   ]
  },
  {
   "cell_type": "code",
   "execution_count": 353,
   "metadata": {
    "collapsed": false
   },
   "outputs": [
    {
     "data": {
      "text/plain": [
       "(0.94219653179190754,\n",
       " array([[ 5.41572917, -2.16359832, -1.9361105 ,  1.17767831,  0.22744353,\n",
       "         -0.07430495, -0.01479654, -2.73114337,  5.27330833, -1.22614461,\n",
       "         -0.51857301,  0.17152639,  1.66306697,  0.75924602, -0.97830128,\n",
       "         -0.88392402,  2.41899963,  1.22386666, -1.33869994, -1.0184942 ,\n",
       "          2.44934783]]))"
      ]
     },
     "execution_count": 353,
     "metadata": {},
     "output_type": "execute_result"
    }
   ],
   "source": [
    "x_enc = DictVectorizer(sparse=False).fit_transform(x.to_dict(orient='records'))\n",
    "train_i, test_i = train_test_split(range(0, len(x_enc)), test_size=.2)\n",
    "\n",
    "lr = LogisticRegression()\n",
    "lr.fit(x_enc[train_i], y[train_i])\n",
    "lr.score(x_enc[test_i], y[test_i]), lr.coef_"
   ]
  },
  {
   "cell_type": "code",
   "execution_count": 367,
   "metadata": {
    "collapsed": false
   },
   "outputs": [
    {
     "name": "stdout",
     "output_type": "stream",
     "text": [
      "(1727, 21)\n",
      "0.942196531792 [[-0.07430495 -2.16359832  0.75924602 -0.97830128  0.17152639 -2.73114337\n",
      "   2.44934783  1.17767831 -1.9361105  -1.0184942  -0.51857301  2.41899963\n",
      "   0.22744353 -1.33869994  1.22386666 -1.22614461  1.66306697  5.41572917\n",
      "  -0.88392402  5.27330833 -0.01479654]]\n"
     ]
    }
   ],
   "source": [
    "b = 3000\n",
    "\n",
    "dfx = pd.DataFrame(hash_trick( x.values, x.columns, n=b ))\n",
    "dfx = dfx.fillna(0)\n",
    "print dfx.shape\n",
    "\n",
    "lr1 = LogisticRegression()\n",
    "lr1.fit(dfx.ix[train_i], y[train_i])\n",
    "print lr1.score(dfx.ix[test_i], y[test_i]), lr1.coef_"
   ]
  },
  {
   "cell_type": "code",
   "execution_count": 369,
   "metadata": {
    "collapsed": false
   },
   "outputs": [
    {
     "data": {
      "text/plain": [
       "array([[ 0.,  0.,  0.,  0.,  0.,  0.,  0.,  0.,  0.,  0.,  0.,  0.,  0.,\n",
       "         0.,  0.,  0.,  0.,  0.,  0.,  0.,  0.]])"
      ]
     },
     "execution_count": 369,
     "metadata": {},
     "output_type": "execute_result"
    }
   ],
   "source": [
    "np.array(sorted(lr.coef_)) - np.array(sorted(lr1.coef_))"
   ]
  }
 ],
 "metadata": {
  "kernelspec": {
   "display_name": "Python 2",
   "language": "python",
   "name": "python2"
  },
  "language_info": {
   "codemirror_mode": {
    "name": "ipython",
    "version": 2
   },
   "file_extension": ".py",
   "mimetype": "text/x-python",
   "name": "python",
   "nbconvert_exporter": "python",
   "pygments_lexer": "ipython2",
   "version": "2.7.12"
  }
 },
 "nbformat": 4,
 "nbformat_minor": 0
}
